{
 "cells": [
  {
   "cell_type": "code",
   "execution_count": 0,
   "metadata": {
    "colab": {},
    "colab_type": "code",
    "id": "JHr2XFtXi3QA"
   },
   "outputs": [],
   "source": [
    "%matplotlib inline\n",
    "import warnings\n",
    "warnings.filterwarnings('ignore')\n",
    "\n",
    "from sklearn.preprocessing import StandardScaler, OneHotEncoder\n",
    "from sklearn.datasets import load_iris\n",
    "from sklearn import tree\n",
    "from sklearn.model_selection import cross_validate, KFold\n",
    "from sklearn.model_selection import cross_val_score, train_test_split\n",
    "from sklearn import metrics\n",
    "from sklearn.metrics import confusion_matrix, classification_report, roc_curve,auc\n",
    "import matplotlib.pyplot as plt\n",
    "from sklearn.svm import SVR\n",
    "import numpy as np\n",
    "import pandas as pd\n",
    "from sklearn.model_selection import GridSearchCV, RandomizedSearchCV\n",
    "from sklearn.tree import DecisionTreeRegressor\n",
    "from sklearn.tree import DecisionTreeClassifier\n",
    "from sklearn.linear_model import LinearRegression\n",
    "from sklearn.neighbors import KNeighborsRegressor\n",
    "from sklearn.ensemble import RandomForestRegressor, RandomForestClassifier\n",
    "from sklearn.ensemble import GradientBoostingRegressor\n",
    "from sklearn.ensemble import AdaBoostRegressor\n",
    "from sklearn.metrics import mean_squared_error\n",
    "from sklearn.metrics import mean_absolute_error\n",
    "from sklearn.linear_model import LogisticRegression\n",
    "\n",
    "pd.set_option('display.max_columns', None)"
   ]
  },
  {
   "cell_type": "code",
   "execution_count": 0,
   "metadata": {
    "colab": {},
    "colab_type": "code",
    "id": "IxdHMBlgi3QC"
   },
   "outputs": [],
   "source": [
    "masterdf0 = pd.read_csv('Master_Data_with_filtering_updated.csv')\n",
    "masterdf_test0 = pd.read_csv('Test_Master_Data_with_filtering_updated.csv')"
   ]
  },
  {
   "cell_type": "code",
   "execution_count": 0,
   "metadata": {
    "colab": {},
    "colab_type": "code",
    "id": "IdgceOwymCC6"
   },
   "outputs": [],
   "source": [
    " selected_features = ['SK_ID_CURR','TARGET','EXT_SOURCE_3'\n",
    " ,'EXT_SOURCE_2'\n",
    " ,'NAME_CONTRACT_STATUS_Refused'\n",
    " ,'NAME_EDUCATION_TYPE_Higher education'\n",
    " ,'AMT_GOODS_PRICE_x'\n",
    " ,'NAME_INCOME_TYPE_Working'\n",
    " ,'NAME_INCOME_TYPE_Pensioner'\n",
    " ,'FLAG_DOCUMENT_3'\n",
    " ,'CODE_GENDER_F'\n",
    " ,'AMT_DOWN_PAYMENT'\n",
    " ,'DAYS_BIRTH'\n",
    " ,'MONTHS_BALANCE_MIN'\n",
    " ,'FLAG_OWN_CAR_N'\n",
    " ,'AMT_GOODS_PRICE_y'\n",
    " ,'NAME_PORTFOLIO_Cards'\n",
    " ,'NAME_YIELD_GROUP_high'\n",
    " ,'DAYS_EMPLOYED'\n",
    " ,'Active'\n",
    " ,'Revolving loans'\n",
    " ,'AVG_AMT_PAYMENT'\n",
    " ,'Consumer loans'\n",
    " ,'NAME_EDUCATION_TYPE_Secondary / secondary special'\n",
    " ,'AMT_ANNUITY_x'\n",
    " ,'AMT_CREDIT_x'\n",
    " ,'CODE_GENDER_M'\n",
    " ,'PREVIOUS_REJECTS'\n",
    " ,'DEF_30_CNT_SOCIAL_CIRCLE'\n",
    " ,'SK_ID_PREV'\n",
    " ,'DAYS_LAST_PHONE_CHANGE'\n",
    " ,'AMT_CREDIT_SUM_DEBT'\n",
    " ,'CNT_INSTALMENT'\n",
    " ,'REG_CITY_NOT_LIVE_CITY'\n",
    " ,'CREDIT_ACTIVE_C'\n",
    " ,'CNT_PAYMENT'\n",
    " ,'REGION_RATING_CLIENT_W_CITY'\n",
    " ,'AMT_CREDIT_SUM_OVERDUE'\n",
    " ,'DAYS_LAST_DUE_1ST_VERSION'\n",
    " ,'AVG_DAYS_ENTRY_PAYMENT'\n",
    " ,'DAYS_ID_PUBLISH'\n",
    " ,'CNT_INSTALMENT_FUTURE'\n",
    " ,'MONTHS_BALANCE'\n",
    " ,'DAYS_FIRST_DUE'\n",
    " ,'AMT_CREDIT_SUM'\n",
    " ,'DAYS_LAST_DUE'\n",
    " ,'NAME_PORTFOLIO_POS'\n",
    " ,'ID_PREV_NUM'\n",
    " ,'NAME_YIELD_GROUP_low_action'\n",
    " ,'SELLERPLACE_AREA'\n",
    " ,'AMT_INCOME_TOTAL'\n",
    " ,'DAYS_DECISION'\n",
    " ,'ORGANIZATION_TYPE_Self-employed'\n",
    " ,'CREDIT_ACTIVE_A'\n",
    " ,'NAME_CONTRACT_TYPE_Cash loans'\n",
    " ,'NAME_FAMILY_STATUS_Married'\n",
    " ,'AMT_APPLICATION'\n",
    " ,'AMT_ANNUITY_y.1'\n",
    " ,'STATUS_C'\n",
    " ,'NAME_YIELD_GROUP_middle'\n",
    " ,'DEF_60_CNT_SOCIAL_CIRCLE'\n",
    " ,'OBS_60_CNT_SOCIAL_CIRCLE'\n",
    " ,'AMT_CREDIT_MAX_OVERDUE'\n",
    " ,'AVG_DAYS_INSTALMENT'\n",
    " ,'REGION_POPULATION_RELATIVE'\n",
    " ,'NAME_EDUCATION_TYPE_Lower secondary'\n",
    " ,'STATUS_1'\n",
    " ,'CNT_INSTALMENT_FUTURE_MIN'\n",
    " ,'HOUR_APPR_PROCESS_START'\n",
    " ,'AMT_REQ_CREDIT_BUREAU_YEAR'\n",
    " ,'AMT_CREDIT_y'\n",
    " ,'WEEKDAY_APPR_PROCESS_START_TUESDAY'\n",
    " ,'Completed'\n",
    " ,'AVG_AMT_INSTALMENT']\n",
    "\n",
    " masterdf = masterdf0[selected_features]\n",
    " selected_features.pop(1)\n",
    " masterdf_test = masterdf_test0[selected_features]"
   ]
  },
  {
   "cell_type": "code",
   "execution_count": 0,
   "metadata": {
    "colab": {
     "base_uri": "https://localhost:8080/",
     "height": 34
    },
    "colab_type": "code",
    "id": "zCCP0wbJi3QE",
    "outputId": "f2c5f85d-5730-4dcc-c535-02dd92857be7"
   },
   "outputs": [
    {
     "data": {
      "text/plain": [
       "(307511, 74)"
      ]
     },
     "execution_count": 8,
     "metadata": {
      "tags": []
     },
     "output_type": "execute_result"
    }
   ],
   "source": [
    "masterdf.shape"
   ]
  },
  {
   "cell_type": "code",
   "execution_count": 0,
   "metadata": {
    "colab": {
     "base_uri": "https://localhost:8080/",
     "height": 34
    },
    "colab_type": "code",
    "id": "h7FbawXHi3QH",
    "outputId": "ea4ad803-d9a7-4138-dcf5-2c609bd1f494"
   },
   "outputs": [
    {
     "data": {
      "text/plain": [
       "(48744, 73)"
      ]
     },
     "execution_count": 9,
     "metadata": {
      "tags": []
     },
     "output_type": "execute_result"
    }
   ],
   "source": [
    "masterdf_test.shape"
   ]
  },
  {
   "cell_type": "code",
   "execution_count": 0,
   "metadata": {
    "colab": {},
    "colab_type": "code",
    "id": "wdCWBwmTi3QJ"
   },
   "outputs": [],
   "source": [
    "masterdf = masterdf[masterdf['SK_ID_CURR'] != 333092]"
   ]
  },
  {
   "cell_type": "code",
   "execution_count": 0,
   "metadata": {
    "colab": {
     "base_uri": "https://localhost:8080/",
     "height": 324
    },
    "colab_type": "code",
    "id": "ajc8Rj5mi3QL",
    "outputId": "8a131244-d783-4279-a87d-d25242040680"
   },
   "outputs": [
    {
     "data": {
      "text/html": [
       "<div>\n",
       "<style scoped>\n",
       "    .dataframe tbody tr th:only-of-type {\n",
       "        vertical-align: middle;\n",
       "    }\n",
       "\n",
       "    .dataframe tbody tr th {\n",
       "        vertical-align: top;\n",
       "    }\n",
       "\n",
       "    .dataframe thead th {\n",
       "        text-align: right;\n",
       "    }\n",
       "</style>\n",
       "<table border=\"1\" class=\"dataframe\">\n",
       "  <thead>\n",
       "    <tr style=\"text-align: right;\">\n",
       "      <th></th>\n",
       "      <th>SK_ID_CURR</th>\n",
       "      <th>EXT_SOURCE_3</th>\n",
       "      <th>EXT_SOURCE_2</th>\n",
       "      <th>NAME_CONTRACT_STATUS_Refused</th>\n",
       "      <th>NAME_EDUCATION_TYPE_Higher education</th>\n",
       "      <th>AMT_GOODS_PRICE_x</th>\n",
       "      <th>NAME_INCOME_TYPE_Working</th>\n",
       "      <th>NAME_INCOME_TYPE_Pensioner</th>\n",
       "      <th>FLAG_DOCUMENT_3</th>\n",
       "      <th>CODE_GENDER_F</th>\n",
       "      <th>AMT_DOWN_PAYMENT</th>\n",
       "      <th>DAYS_BIRTH</th>\n",
       "      <th>MONTHS_BALANCE_MIN</th>\n",
       "      <th>FLAG_OWN_CAR_N</th>\n",
       "      <th>AMT_GOODS_PRICE_y</th>\n",
       "      <th>NAME_PORTFOLIO_Cards</th>\n",
       "      <th>NAME_YIELD_GROUP_high</th>\n",
       "      <th>DAYS_EMPLOYED</th>\n",
       "      <th>Active</th>\n",
       "      <th>Revolving loans</th>\n",
       "      <th>AVG_AMT_PAYMENT</th>\n",
       "      <th>Consumer loans</th>\n",
       "      <th>NAME_EDUCATION_TYPE_Secondary / secondary special</th>\n",
       "      <th>AMT_ANNUITY_x</th>\n",
       "      <th>AMT_CREDIT_x</th>\n",
       "      <th>CODE_GENDER_M</th>\n",
       "      <th>PREVIOUS_REJECTS</th>\n",
       "      <th>DEF_30_CNT_SOCIAL_CIRCLE</th>\n",
       "      <th>SK_ID_PREV</th>\n",
       "      <th>DAYS_LAST_PHONE_CHANGE</th>\n",
       "      <th>AMT_CREDIT_SUM_DEBT</th>\n",
       "      <th>CNT_INSTALMENT</th>\n",
       "      <th>REG_CITY_NOT_LIVE_CITY</th>\n",
       "      <th>CREDIT_ACTIVE_C</th>\n",
       "      <th>CNT_PAYMENT</th>\n",
       "      <th>REGION_RATING_CLIENT_W_CITY</th>\n",
       "      <th>AMT_CREDIT_SUM_OVERDUE</th>\n",
       "      <th>DAYS_LAST_DUE_1ST_VERSION</th>\n",
       "      <th>AVG_DAYS_ENTRY_PAYMENT</th>\n",
       "      <th>DAYS_ID_PUBLISH</th>\n",
       "      <th>CNT_INSTALMENT_FUTURE</th>\n",
       "      <th>MONTHS_BALANCE</th>\n",
       "      <th>DAYS_FIRST_DUE</th>\n",
       "      <th>AMT_CREDIT_SUM</th>\n",
       "      <th>DAYS_LAST_DUE</th>\n",
       "      <th>NAME_PORTFOLIO_POS</th>\n",
       "      <th>ID_PREV_NUM</th>\n",
       "      <th>NAME_YIELD_GROUP_low_action</th>\n",
       "      <th>SELLERPLACE_AREA</th>\n",
       "      <th>AMT_INCOME_TOTAL</th>\n",
       "      <th>DAYS_DECISION</th>\n",
       "      <th>ORGANIZATION_TYPE_Self-employed</th>\n",
       "      <th>CREDIT_ACTIVE_A</th>\n",
       "      <th>NAME_CONTRACT_TYPE_Cash loans</th>\n",
       "      <th>NAME_FAMILY_STATUS_Married</th>\n",
       "      <th>AMT_APPLICATION</th>\n",
       "      <th>AMT_ANNUITY_y.1</th>\n",
       "      <th>STATUS_C</th>\n",
       "      <th>NAME_YIELD_GROUP_middle</th>\n",
       "      <th>DEF_60_CNT_SOCIAL_CIRCLE</th>\n",
       "      <th>OBS_60_CNT_SOCIAL_CIRCLE</th>\n",
       "      <th>AMT_CREDIT_MAX_OVERDUE</th>\n",
       "      <th>AVG_DAYS_INSTALMENT</th>\n",
       "      <th>REGION_POPULATION_RELATIVE</th>\n",
       "      <th>NAME_EDUCATION_TYPE_Lower secondary</th>\n",
       "      <th>STATUS_1</th>\n",
       "      <th>CNT_INSTALMENT_FUTURE_MIN</th>\n",
       "      <th>HOUR_APPR_PROCESS_START</th>\n",
       "      <th>AMT_REQ_CREDIT_BUREAU_YEAR</th>\n",
       "      <th>AMT_CREDIT_y</th>\n",
       "      <th>WEEKDAY_APPR_PROCESS_START_TUESDAY</th>\n",
       "      <th>Completed</th>\n",
       "      <th>AVG_AMT_INSTALMENT</th>\n",
       "    </tr>\n",
       "  </thead>\n",
       "  <tbody>\n",
       "    <tr>\n",
       "      <th>count</th>\n",
       "      <td>48744.000000</td>\n",
       "      <td>40076.000000</td>\n",
       "      <td>48736.000000</td>\n",
       "      <td>48744.000000</td>\n",
       "      <td>48744.000000</td>\n",
       "      <td>4.874400e+04</td>\n",
       "      <td>48744.000000</td>\n",
       "      <td>48744.000000</td>\n",
       "      <td>48744.000000</td>\n",
       "      <td>48744.000000</td>\n",
       "      <td>4.874400e+04</td>\n",
       "      <td>48744.000000</td>\n",
       "      <td>47808.000000</td>\n",
       "      <td>48744.000000</td>\n",
       "      <td>47711.000000</td>\n",
       "      <td>48744.000000</td>\n",
       "      <td>48744.000000</td>\n",
       "      <td>48744.000000</td>\n",
       "      <td>47808.000000</td>\n",
       "      <td>47800.000000</td>\n",
       "      <td>47943.000000</td>\n",
       "      <td>47800.000000</td>\n",
       "      <td>48744.000000</td>\n",
       "      <td>48720.000000</td>\n",
       "      <td>4.874400e+04</td>\n",
       "      <td>48744.000000</td>\n",
       "      <td>47800.000000</td>\n",
       "      <td>48715.000000</td>\n",
       "      <td>47808.000000</td>\n",
       "      <td>48744.000000</td>\n",
       "      <td>4.228200e+04</td>\n",
       "      <td>47804.000000</td>\n",
       "      <td>48744.000000</td>\n",
       "      <td>42282.000000</td>\n",
       "      <td>47737.000000</td>\n",
       "      <td>48744.000000</td>\n",
       "      <td>4.228200e+04</td>\n",
       "      <td>47580.000000</td>\n",
       "      <td>47943.000000</td>\n",
       "      <td>48744.000000</td>\n",
       "      <td>47804.000000</td>\n",
       "      <td>47808.000000</td>\n",
       "      <td>47580.000000</td>\n",
       "      <td>4.228200e+04</td>\n",
       "      <td>47580.000000</td>\n",
       "      <td>48744.000000</td>\n",
       "      <td>47944.000000</td>\n",
       "      <td>48744.000000</td>\n",
       "      <td>47800.000000</td>\n",
       "      <td>4.874400e+04</td>\n",
       "      <td>47800.000000</td>\n",
       "      <td>48744.000000</td>\n",
       "      <td>42282.000000</td>\n",
       "      <td>48744.000000</td>\n",
       "      <td>48744.000000</td>\n",
       "      <td>47775.000000</td>\n",
       "      <td>47737.000000</td>\n",
       "      <td>42282.000000</td>\n",
       "      <td>48744.000000</td>\n",
       "      <td>48715.000000</td>\n",
       "      <td>48715.000000</td>\n",
       "      <td>42282.000000</td>\n",
       "      <td>47944.000000</td>\n",
       "      <td>48744.000000</td>\n",
       "      <td>48744.000000</td>\n",
       "      <td>42282.000000</td>\n",
       "      <td>47804.000000</td>\n",
       "      <td>48744.000000</td>\n",
       "      <td>42695.000000</td>\n",
       "      <td>4.780000e+04</td>\n",
       "      <td>48744.000000</td>\n",
       "      <td>47808.000000</td>\n",
       "      <td>47944.000000</td>\n",
       "    </tr>\n",
       "    <tr>\n",
       "      <th>mean</th>\n",
       "      <td>277796.676350</td>\n",
       "      <td>0.500106</td>\n",
       "      <td>0.518021</td>\n",
       "      <td>0.052027</td>\n",
       "      <td>0.256770</td>\n",
       "      <td>4.626188e+05</td>\n",
       "      <td>0.503303</td>\n",
       "      <td>0.190239</td>\n",
       "      <td>0.786620</td>\n",
       "      <td>0.670400</td>\n",
       "      <td>9.017133e+03</td>\n",
       "      <td>-16068.084605</td>\n",
       "      <td>-53.909680</td>\n",
       "      <td>0.662871</td>\n",
       "      <td>100.087369</td>\n",
       "      <td>0.097530</td>\n",
       "      <td>0.342791</td>\n",
       "      <td>67485.366322</td>\n",
       "      <td>27.872783</td>\n",
       "      <td>0.665188</td>\n",
       "      <td>20521.495938</td>\n",
       "      <td>2.173536</td>\n",
       "      <td>0.697276</td>\n",
       "      <td>29426.240209</td>\n",
       "      <td>5.167404e+05</td>\n",
       "      <td>0.329600</td>\n",
       "      <td>1.024121</td>\n",
       "      <td>0.143652</td>\n",
       "      <td>30.496632</td>\n",
       "      <td>-1077.766228</td>\n",
       "      <td>7.370926e+05</td>\n",
       "      <td>20.424944</td>\n",
       "      <td>0.077466</td>\n",
       "      <td>3.820254</td>\n",
       "      <td>14.549004</td>\n",
       "      <td>2.012596</td>\n",
       "      <td>1.491646e+02</td>\n",
       "      <td>32489.918104</td>\n",
       "      <td>-928.995532</td>\n",
       "      <td>-3051.712949</td>\n",
       "      <td>20.308175</td>\n",
       "      <td>-12.778656</td>\n",
       "      <td>13537.960295</td>\n",
       "      <td>2.222549e+06</td>\n",
       "      <td>78525.490985</td>\n",
       "      <td>0.571127</td>\n",
       "      <td>3.012014</td>\n",
       "      <td>0.090042</td>\n",
       "      <td>412.465520</td>\n",
       "      <td>1.784318e+05</td>\n",
       "      <td>-917.552281</td>\n",
       "      <td>0.121451</td>\n",
       "      <td>2.096661</td>\n",
       "      <td>0.990994</td>\n",
       "      <td>0.662297</td>\n",
       "      <td>97.429441</td>\n",
       "      <td>15410.840530</td>\n",
       "      <td>107.081973</td>\n",
       "      <td>0.280527</td>\n",
       "      <td>0.101139</td>\n",
       "      <td>1.435738</td>\n",
       "      <td>0.334729</td>\n",
       "      <td>-917.315481</td>\n",
       "      <td>0.021226</td>\n",
       "      <td>0.009745</td>\n",
       "      <td>1.760513</td>\n",
       "      <td>0.417413</td>\n",
       "      <td>12.007365</td>\n",
       "      <td>1.983769</td>\n",
       "      <td>1.719261e+05</td>\n",
       "      <td>0.200045</td>\n",
       "      <td>2.301100</td>\n",
       "      <td>19973.251539</td>\n",
       "    </tr>\n",
       "    <tr>\n",
       "      <th>std</th>\n",
       "      <td>103169.547296</td>\n",
       "      <td>0.189498</td>\n",
       "      <td>0.181278</td>\n",
       "      <td>0.222084</td>\n",
       "      <td>0.436856</td>\n",
       "      <td>3.367102e+05</td>\n",
       "      <td>0.499994</td>\n",
       "      <td>0.392494</td>\n",
       "      <td>0.409698</td>\n",
       "      <td>0.470073</td>\n",
       "      <td>2.083791e+04</td>\n",
       "      <td>4325.900393</td>\n",
       "      <td>30.148924</td>\n",
       "      <td>0.472734</td>\n",
       "      <td>14.312588</td>\n",
       "      <td>0.296681</td>\n",
       "      <td>0.474647</td>\n",
       "      <td>144348.507136</td>\n",
       "      <td>23.949533</td>\n",
       "      <td>1.107042</td>\n",
       "      <td>25933.206176</td>\n",
       "      <td>1.872098</td>\n",
       "      <td>0.459442</td>\n",
       "      <td>16016.368315</td>\n",
       "      <td>3.653970e+05</td>\n",
       "      <td>0.470073</td>\n",
       "      <td>1.979746</td>\n",
       "      <td>0.514413</td>\n",
       "      <td>25.850590</td>\n",
       "      <td>878.920740</td>\n",
       "      <td>1.680264e+06</td>\n",
       "      <td>13.663026</td>\n",
       "      <td>0.267332</td>\n",
       "      <td>3.707577</td>\n",
       "      <td>8.342980</td>\n",
       "      <td>0.515804</td>\n",
       "      <td>9.211520e+03</td>\n",
       "      <td>57816.783827</td>\n",
       "      <td>598.098073</td>\n",
       "      <td>1569.276709</td>\n",
       "      <td>13.713268</td>\n",
       "      <td>18.561101</td>\n",
       "      <td>41757.175969</td>\n",
       "      <td>4.539563e+06</td>\n",
       "      <td>102782.486005</td>\n",
       "      <td>0.494920</td>\n",
       "      <td>2.111285</td>\n",
       "      <td>0.286245</td>\n",
       "      <td>2409.429125</td>\n",
       "      <td>1.015226e+05</td>\n",
       "      <td>555.368217</td>\n",
       "      <td>0.326654</td>\n",
       "      <td>1.815826</td>\n",
       "      <td>0.094474</td>\n",
       "      <td>0.472932</td>\n",
       "      <td>16.850828</td>\n",
       "      <td>10573.344603</td>\n",
       "      <td>126.602440</td>\n",
       "      <td>0.449261</td>\n",
       "      <td>0.403791</td>\n",
       "      <td>3.580125</td>\n",
       "      <td>0.722379</td>\n",
       "      <td>599.201814</td>\n",
       "      <td>0.014428</td>\n",
       "      <td>0.098235</td>\n",
       "      <td>4.405363</td>\n",
       "      <td>2.182407</td>\n",
       "      <td>3.278172</td>\n",
       "      <td>1.838873</td>\n",
       "      <td>1.602918e+05</td>\n",
       "      <td>0.400038</td>\n",
       "      <td>3.338029</td>\n",
       "      <td>24179.897932</td>\n",
       "    </tr>\n",
       "    <tr>\n",
       "      <th>min</th>\n",
       "      <td>100001.000000</td>\n",
       "      <td>0.000527</td>\n",
       "      <td>0.000008</td>\n",
       "      <td>0.000000</td>\n",
       "      <td>0.000000</td>\n",
       "      <td>4.500000e+04</td>\n",
       "      <td>0.000000</td>\n",
       "      <td>0.000000</td>\n",
       "      <td>0.000000</td>\n",
       "      <td>0.000000</td>\n",
       "      <td>0.000000e+00</td>\n",
       "      <td>-25195.000000</td>\n",
       "      <td>-96.000000</td>\n",
       "      <td>0.000000</td>\n",
       "      <td>0.000000</td>\n",
       "      <td>0.000000</td>\n",
       "      <td>0.000000</td>\n",
       "      <td>-17463.000000</td>\n",
       "      <td>0.000000</td>\n",
       "      <td>0.000000</td>\n",
       "      <td>99.765000</td>\n",
       "      <td>0.000000</td>\n",
       "      <td>0.000000</td>\n",
       "      <td>2295.000000</td>\n",
       "      <td>4.500000e+04</td>\n",
       "      <td>0.000000</td>\n",
       "      <td>0.000000</td>\n",
       "      <td>0.000000</td>\n",
       "      <td>1.000000</td>\n",
       "      <td>-4361.000000</td>\n",
       "      <td>0.000000e+00</td>\n",
       "      <td>1.000000</td>\n",
       "      <td>0.000000</td>\n",
       "      <td>0.000000</td>\n",
       "      <td>0.000000</td>\n",
       "      <td>-1.000000</td>\n",
       "      <td>0.000000e+00</td>\n",
       "      <td>-2796.000000</td>\n",
       "      <td>-2922.000000</td>\n",
       "      <td>-6348.000000</td>\n",
       "      <td>0.000000</td>\n",
       "      <td>-95.000000</td>\n",
       "      <td>-2891.000000</td>\n",
       "      <td>0.000000e+00</td>\n",
       "      <td>-2850.000000</td>\n",
       "      <td>0.000000</td>\n",
       "      <td>1.000000</td>\n",
       "      <td>0.000000</td>\n",
       "      <td>-1.000000</td>\n",
       "      <td>2.694150e+04</td>\n",
       "      <td>-2921.000000</td>\n",
       "      <td>0.000000</td>\n",
       "      <td>0.000000</td>\n",
       "      <td>0.000000</td>\n",
       "      <td>0.000000</td>\n",
       "      <td>0.000000</td>\n",
       "      <td>885.780000</td>\n",
       "      <td>0.000000</td>\n",
       "      <td>0.000000</td>\n",
       "      <td>0.000000</td>\n",
       "      <td>0.000000</td>\n",
       "      <td>0.000000</td>\n",
       "      <td>-2922.000000</td>\n",
       "      <td>0.000253</td>\n",
       "      <td>0.000000</td>\n",
       "      <td>0.000000</td>\n",
       "      <td>0.000000</td>\n",
       "      <td>0.000000</td>\n",
       "      <td>0.000000</td>\n",
       "      <td>0.000000e+00</td>\n",
       "      <td>0.000000</td>\n",
       "      <td>0.000000</td>\n",
       "      <td>104.443636</td>\n",
       "    </tr>\n",
       "    <tr>\n",
       "      <th>25%</th>\n",
       "      <td>188557.750000</td>\n",
       "      <td>0.363945</td>\n",
       "      <td>0.408066</td>\n",
       "      <td>0.000000</td>\n",
       "      <td>0.000000</td>\n",
       "      <td>2.250000e+05</td>\n",
       "      <td>0.000000</td>\n",
       "      <td>0.000000</td>\n",
       "      <td>1.000000</td>\n",
       "      <td>0.000000</td>\n",
       "      <td>0.000000e+00</td>\n",
       "      <td>-19637.000000</td>\n",
       "      <td>-85.000000</td>\n",
       "      <td>0.000000</td>\n",
       "      <td>93.327742</td>\n",
       "      <td>0.000000</td>\n",
       "      <td>0.000000</td>\n",
       "      <td>-2910.000000</td>\n",
       "      <td>11.000000</td>\n",
       "      <td>0.000000</td>\n",
       "      <td>8273.168191</td>\n",
       "      <td>1.000000</td>\n",
       "      <td>0.000000</td>\n",
       "      <td>17973.000000</td>\n",
       "      <td>2.606400e+05</td>\n",
       "      <td>0.000000</td>\n",
       "      <td>0.000000</td>\n",
       "      <td>0.000000</td>\n",
       "      <td>12.000000</td>\n",
       "      <td>-1766.250000</td>\n",
       "      <td>0.000000e+00</td>\n",
       "      <td>12.000000</td>\n",
       "      <td>0.000000</td>\n",
       "      <td>1.000000</td>\n",
       "      <td>9.000000</td>\n",
       "      <td>2.000000</td>\n",
       "      <td>0.000000e+00</td>\n",
       "      <td>-765.350000</td>\n",
       "      <td>-1313.095201</td>\n",
       "      <td>-4448.000000</td>\n",
       "      <td>12.000000</td>\n",
       "      <td>-15.000000</td>\n",
       "      <td>-1332.500000</td>\n",
       "      <td>3.692959e+05</td>\n",
       "      <td>-812.500000</td>\n",
       "      <td>0.000000</td>\n",
       "      <td>1.000000</td>\n",
       "      <td>0.000000</td>\n",
       "      <td>22.333333</td>\n",
       "      <td>1.125000e+05</td>\n",
       "      <td>-1202.000000</td>\n",
       "      <td>0.000000</td>\n",
       "      <td>1.000000</td>\n",
       "      <td>1.000000</td>\n",
       "      <td>0.000000</td>\n",
       "      <td>91.281936</td>\n",
       "      <td>8428.522500</td>\n",
       "      <td>17.000000</td>\n",
       "      <td>0.000000</td>\n",
       "      <td>0.000000</td>\n",
       "      <td>0.000000</td>\n",
       "      <td>0.000000</td>\n",
       "      <td>-1303.225542</td>\n",
       "      <td>0.010006</td>\n",
       "      <td>0.000000</td>\n",
       "      <td>0.000000</td>\n",
       "      <td>0.000000</td>\n",
       "      <td>10.000000</td>\n",
       "      <td>0.000000</td>\n",
       "      <td>7.093965e+04</td>\n",
       "      <td>0.000000</td>\n",
       "      <td>1.000000</td>\n",
       "      <td>8541.412866</td>\n",
       "    </tr>\n",
       "    <tr>\n",
       "      <th>50%</th>\n",
       "      <td>277549.000000</td>\n",
       "      <td>0.519097</td>\n",
       "      <td>0.558758</td>\n",
       "      <td>0.000000</td>\n",
       "      <td>0.000000</td>\n",
       "      <td>3.960000e+05</td>\n",
       "      <td>1.000000</td>\n",
       "      <td>0.000000</td>\n",
       "      <td>1.000000</td>\n",
       "      <td>1.000000</td>\n",
       "      <td>4.500000e+03</td>\n",
       "      <td>-15785.000000</td>\n",
       "      <td>-53.000000</td>\n",
       "      <td>1.000000</td>\n",
       "      <td>98.133481</td>\n",
       "      <td>0.000000</td>\n",
       "      <td>0.000000</td>\n",
       "      <td>-1293.000000</td>\n",
       "      <td>21.000000</td>\n",
       "      <td>0.000000</td>\n",
       "      <td>13489.159091</td>\n",
       "      <td>2.000000</td>\n",
       "      <td>1.000000</td>\n",
       "      <td>26199.000000</td>\n",
       "      <td>4.500000e+05</td>\n",
       "      <td>0.000000</td>\n",
       "      <td>0.000000</td>\n",
       "      <td>0.000000</td>\n",
       "      <td>23.000000</td>\n",
       "      <td>-863.000000</td>\n",
       "      <td>2.076165e+05</td>\n",
       "      <td>12.000000</td>\n",
       "      <td>0.000000</td>\n",
       "      <td>3.000000</td>\n",
       "      <td>12.000000</td>\n",
       "      <td>2.000000</td>\n",
       "      <td>0.000000e+00</td>\n",
       "      <td>-189.100000</td>\n",
       "      <td>-801.833333</td>\n",
       "      <td>-3234.000000</td>\n",
       "      <td>12.000000</td>\n",
       "      <td>-5.000000</td>\n",
       "      <td>-820.000000</td>\n",
       "      <td>1.092335e+06</td>\n",
       "      <td>-15.000000</td>\n",
       "      <td>1.000000</td>\n",
       "      <td>2.000000</td>\n",
       "      <td>0.000000</td>\n",
       "      <td>79.000000</td>\n",
       "      <td>1.575000e+05</td>\n",
       "      <td>-784.000000</td>\n",
       "      <td>0.000000</td>\n",
       "      <td>2.000000</td>\n",
       "      <td>1.000000</td>\n",
       "      <td>1.000000</td>\n",
       "      <td>97.066848</td>\n",
       "      <td>12796.830000</td>\n",
       "      <td>66.000000</td>\n",
       "      <td>0.000000</td>\n",
       "      <td>0.000000</td>\n",
       "      <td>0.000000</td>\n",
       "      <td>0.000000</td>\n",
       "      <td>-789.955556</td>\n",
       "      <td>0.018850</td>\n",
       "      <td>0.000000</td>\n",
       "      <td>0.000000</td>\n",
       "      <td>0.000000</td>\n",
       "      <td>12.000000</td>\n",
       "      <td>2.000000</td>\n",
       "      <td>1.220796e+05</td>\n",
       "      <td>0.000000</td>\n",
       "      <td>2.000000</td>\n",
       "      <td>13735.345714</td>\n",
       "    </tr>\n",
       "    <tr>\n",
       "      <th>75%</th>\n",
       "      <td>367555.500000</td>\n",
       "      <td>0.652897</td>\n",
       "      <td>0.658497</td>\n",
       "      <td>0.000000</td>\n",
       "      <td>1.000000</td>\n",
       "      <td>6.300000e+05</td>\n",
       "      <td>1.000000</td>\n",
       "      <td>0.000000</td>\n",
       "      <td>1.000000</td>\n",
       "      <td>1.000000</td>\n",
       "      <td>1.121850e+04</td>\n",
       "      <td>-12496.000000</td>\n",
       "      <td>-25.000000</td>\n",
       "      <td>1.000000</td>\n",
       "      <td>103.193849</td>\n",
       "      <td>0.000000</td>\n",
       "      <td>1.000000</td>\n",
       "      <td>-296.000000</td>\n",
       "      <td>37.000000</td>\n",
       "      <td>1.000000</td>\n",
       "      <td>23475.929748</td>\n",
       "      <td>3.000000</td>\n",
       "      <td>1.000000</td>\n",
       "      <td>37390.500000</td>\n",
       "      <td>6.750000e+05</td>\n",
       "      <td>1.000000</td>\n",
       "      <td>1.000000</td>\n",
       "      <td>0.000000</td>\n",
       "      <td>40.000000</td>\n",
       "      <td>-363.000000</td>\n",
       "      <td>7.901389e+05</td>\n",
       "      <td>24.000000</td>\n",
       "      <td>0.000000</td>\n",
       "      <td>5.000000</td>\n",
       "      <td>18.000000</td>\n",
       "      <td>2.000000</td>\n",
       "      <td>0.000000e+00</td>\n",
       "      <td>60389.208335</td>\n",
       "      <td>-445.985714</td>\n",
       "      <td>-1706.000000</td>\n",
       "      <td>24.000000</td>\n",
       "      <td>-2.000000</td>\n",
       "      <td>-405.000000</td>\n",
       "      <td>2.657656e+06</td>\n",
       "      <td>121523.000000</td>\n",
       "      <td>1.000000</td>\n",
       "      <td>4.000000</td>\n",
       "      <td>0.000000</td>\n",
       "      <td>350.000000</td>\n",
       "      <td>2.250000e+05</td>\n",
       "      <td>-499.312500</td>\n",
       "      <td>0.000000</td>\n",
       "      <td>3.000000</td>\n",
       "      <td>1.000000</td>\n",
       "      <td>1.000000</td>\n",
       "      <td>102.439592</td>\n",
       "      <td>19399.446000</td>\n",
       "      <td>153.000000</td>\n",
       "      <td>1.000000</td>\n",
       "      <td>0.000000</td>\n",
       "      <td>2.000000</td>\n",
       "      <td>0.000000</td>\n",
       "      <td>-432.098772</td>\n",
       "      <td>0.028663</td>\n",
       "      <td>0.000000</td>\n",
       "      <td>2.000000</td>\n",
       "      <td>0.000000</td>\n",
       "      <td>14.000000</td>\n",
       "      <td>3.000000</td>\n",
       "      <td>2.183662e+05</td>\n",
       "      <td>0.000000</td>\n",
       "      <td>3.000000</td>\n",
       "      <td>23251.799893</td>\n",
       "    </tr>\n",
       "    <tr>\n",
       "      <th>max</th>\n",
       "      <td>456250.000000</td>\n",
       "      <td>0.882530</td>\n",
       "      <td>0.855000</td>\n",
       "      <td>1.000000</td>\n",
       "      <td>1.000000</td>\n",
       "      <td>2.245500e+06</td>\n",
       "      <td>1.000000</td>\n",
       "      <td>1.000000</td>\n",
       "      <td>1.000000</td>\n",
       "      <td>1.000000</td>\n",
       "      <td>1.188000e+06</td>\n",
       "      <td>-7338.000000</td>\n",
       "      <td>-1.000000</td>\n",
       "      <td>1.000000</td>\n",
       "      <td>1000.000000</td>\n",
       "      <td>1.000000</td>\n",
       "      <td>1.000000</td>\n",
       "      <td>365243.000000</td>\n",
       "      <td>230.000000</td>\n",
       "      <td>23.000000</td>\n",
       "      <td>946490.062500</td>\n",
       "      <td>48.000000</td>\n",
       "      <td>1.000000</td>\n",
       "      <td>180576.000000</td>\n",
       "      <td>2.245500e+06</td>\n",
       "      <td>1.000000</td>\n",
       "      <td>64.000000</td>\n",
       "      <td>34.000000</td>\n",
       "      <td>247.000000</td>\n",
       "      <td>0.000000</td>\n",
       "      <td>6.544140e+07</td>\n",
       "      <td>92.000000</td>\n",
       "      <td>1.000000</td>\n",
       "      <td>66.000000</td>\n",
       "      <td>60.000000</td>\n",
       "      <td>3.000000</td>\n",
       "      <td>1.332472e+06</td>\n",
       "      <td>365243.000000</td>\n",
       "      <td>-5.000000</td>\n",
       "      <td>0.000000</td>\n",
       "      <td>85.000000</td>\n",
       "      <td>-1.000000</td>\n",
       "      <td>365243.000000</td>\n",
       "      <td>6.091645e+08</td>\n",
       "      <td>365243.000000</td>\n",
       "      <td>1.000000</td>\n",
       "      <td>21.000000</td>\n",
       "      <td>1.000000</td>\n",
       "      <td>250000.000000</td>\n",
       "      <td>4.410000e+06</td>\n",
       "      <td>-5.000000</td>\n",
       "      <td>1.000000</td>\n",
       "      <td>19.000000</td>\n",
       "      <td>1.000000</td>\n",
       "      <td>1.000000</td>\n",
       "      <td>1000.000000</td>\n",
       "      <td>235874.970000</td>\n",
       "      <td>1928.000000</td>\n",
       "      <td>1.000000</td>\n",
       "      <td>24.000000</td>\n",
       "      <td>351.000000</td>\n",
       "      <td>9.000000</td>\n",
       "      <td>-5.000000</td>\n",
       "      <td>0.072508</td>\n",
       "      <td>1.000000</td>\n",
       "      <td>104.000000</td>\n",
       "      <td>52.000000</td>\n",
       "      <td>23.000000</td>\n",
       "      <td>17.000000</td>\n",
       "      <td>3.524220e+06</td>\n",
       "      <td>1.000000</td>\n",
       "      <td>86.000000</td>\n",
       "      <td>946490.062500</td>\n",
       "    </tr>\n",
       "  </tbody>\n",
       "</table>\n",
       "</div>"
      ],
      "text/plain": [
       "          SK_ID_CURR  EXT_SOURCE_3  EXT_SOURCE_2  \\\n",
       "count   48744.000000  40076.000000  48736.000000   \n",
       "mean   277796.676350      0.500106      0.518021   \n",
       "std    103169.547296      0.189498      0.181278   \n",
       "min    100001.000000      0.000527      0.000008   \n",
       "25%    188557.750000      0.363945      0.408066   \n",
       "50%    277549.000000      0.519097      0.558758   \n",
       "75%    367555.500000      0.652897      0.658497   \n",
       "max    456250.000000      0.882530      0.855000   \n",
       "\n",
       "       NAME_CONTRACT_STATUS_Refused  NAME_EDUCATION_TYPE_Higher education  \\\n",
       "count                  48744.000000                          48744.000000   \n",
       "mean                       0.052027                              0.256770   \n",
       "std                        0.222084                              0.436856   \n",
       "min                        0.000000                              0.000000   \n",
       "25%                        0.000000                              0.000000   \n",
       "50%                        0.000000                              0.000000   \n",
       "75%                        0.000000                              1.000000   \n",
       "max                        1.000000                              1.000000   \n",
       "\n",
       "       AMT_GOODS_PRICE_x  NAME_INCOME_TYPE_Working  \\\n",
       "count       4.874400e+04              48744.000000   \n",
       "mean        4.626188e+05                  0.503303   \n",
       "std         3.367102e+05                  0.499994   \n",
       "min         4.500000e+04                  0.000000   \n",
       "25%         2.250000e+05                  0.000000   \n",
       "50%         3.960000e+05                  1.000000   \n",
       "75%         6.300000e+05                  1.000000   \n",
       "max         2.245500e+06                  1.000000   \n",
       "\n",
       "       NAME_INCOME_TYPE_Pensioner  FLAG_DOCUMENT_3  CODE_GENDER_F  \\\n",
       "count                48744.000000     48744.000000   48744.000000   \n",
       "mean                     0.190239         0.786620       0.670400   \n",
       "std                      0.392494         0.409698       0.470073   \n",
       "min                      0.000000         0.000000       0.000000   \n",
       "25%                      0.000000         1.000000       0.000000   \n",
       "50%                      0.000000         1.000000       1.000000   \n",
       "75%                      0.000000         1.000000       1.000000   \n",
       "max                      1.000000         1.000000       1.000000   \n",
       "\n",
       "       AMT_DOWN_PAYMENT    DAYS_BIRTH  MONTHS_BALANCE_MIN  FLAG_OWN_CAR_N  \\\n",
       "count      4.874400e+04  48744.000000        47808.000000    48744.000000   \n",
       "mean       9.017133e+03 -16068.084605          -53.909680        0.662871   \n",
       "std        2.083791e+04   4325.900393           30.148924        0.472734   \n",
       "min        0.000000e+00 -25195.000000          -96.000000        0.000000   \n",
       "25%        0.000000e+00 -19637.000000          -85.000000        0.000000   \n",
       "50%        4.500000e+03 -15785.000000          -53.000000        1.000000   \n",
       "75%        1.121850e+04 -12496.000000          -25.000000        1.000000   \n",
       "max        1.188000e+06  -7338.000000           -1.000000        1.000000   \n",
       "\n",
       "       AMT_GOODS_PRICE_y  NAME_PORTFOLIO_Cards  NAME_YIELD_GROUP_high  \\\n",
       "count       47711.000000          48744.000000           48744.000000   \n",
       "mean          100.087369              0.097530               0.342791   \n",
       "std            14.312588              0.296681               0.474647   \n",
       "min             0.000000              0.000000               0.000000   \n",
       "25%            93.327742              0.000000               0.000000   \n",
       "50%            98.133481              0.000000               0.000000   \n",
       "75%           103.193849              0.000000               1.000000   \n",
       "max          1000.000000              1.000000               1.000000   \n",
       "\n",
       "       DAYS_EMPLOYED        Active  Revolving loans  AVG_AMT_PAYMENT  \\\n",
       "count   48744.000000  47808.000000     47800.000000     47943.000000   \n",
       "mean    67485.366322     27.872783         0.665188     20521.495938   \n",
       "std    144348.507136     23.949533         1.107042     25933.206176   \n",
       "min    -17463.000000      0.000000         0.000000        99.765000   \n",
       "25%     -2910.000000     11.000000         0.000000      8273.168191   \n",
       "50%     -1293.000000     21.000000         0.000000     13489.159091   \n",
       "75%      -296.000000     37.000000         1.000000     23475.929748   \n",
       "max    365243.000000    230.000000        23.000000    946490.062500   \n",
       "\n",
       "       Consumer loans  NAME_EDUCATION_TYPE_Secondary / secondary special  \\\n",
       "count    47800.000000                                       48744.000000   \n",
       "mean         2.173536                                           0.697276   \n",
       "std          1.872098                                           0.459442   \n",
       "min          0.000000                                           0.000000   \n",
       "25%          1.000000                                           0.000000   \n",
       "50%          2.000000                                           1.000000   \n",
       "75%          3.000000                                           1.000000   \n",
       "max         48.000000                                           1.000000   \n",
       "\n",
       "       AMT_ANNUITY_x  AMT_CREDIT_x  CODE_GENDER_M  PREVIOUS_REJECTS  \\\n",
       "count   48720.000000  4.874400e+04   48744.000000      47800.000000   \n",
       "mean    29426.240209  5.167404e+05       0.329600          1.024121   \n",
       "std     16016.368315  3.653970e+05       0.470073          1.979746   \n",
       "min      2295.000000  4.500000e+04       0.000000          0.000000   \n",
       "25%     17973.000000  2.606400e+05       0.000000          0.000000   \n",
       "50%     26199.000000  4.500000e+05       0.000000          0.000000   \n",
       "75%     37390.500000  6.750000e+05       1.000000          1.000000   \n",
       "max    180576.000000  2.245500e+06       1.000000         64.000000   \n",
       "\n",
       "       DEF_30_CNT_SOCIAL_CIRCLE    SK_ID_PREV  DAYS_LAST_PHONE_CHANGE  \\\n",
       "count              48715.000000  47808.000000            48744.000000   \n",
       "mean                   0.143652     30.496632            -1077.766228   \n",
       "std                    0.514413     25.850590              878.920740   \n",
       "min                    0.000000      1.000000            -4361.000000   \n",
       "25%                    0.000000     12.000000            -1766.250000   \n",
       "50%                    0.000000     23.000000             -863.000000   \n",
       "75%                    0.000000     40.000000             -363.000000   \n",
       "max                   34.000000    247.000000                0.000000   \n",
       "\n",
       "       AMT_CREDIT_SUM_DEBT  CNT_INSTALMENT  REG_CITY_NOT_LIVE_CITY  \\\n",
       "count         4.228200e+04    47804.000000            48744.000000   \n",
       "mean          7.370926e+05       20.424944                0.077466   \n",
       "std           1.680264e+06       13.663026                0.267332   \n",
       "min           0.000000e+00        1.000000                0.000000   \n",
       "25%           0.000000e+00       12.000000                0.000000   \n",
       "50%           2.076165e+05       12.000000                0.000000   \n",
       "75%           7.901389e+05       24.000000                0.000000   \n",
       "max           6.544140e+07       92.000000                1.000000   \n",
       "\n",
       "       CREDIT_ACTIVE_C   CNT_PAYMENT  REGION_RATING_CLIENT_W_CITY  \\\n",
       "count     42282.000000  47737.000000                 48744.000000   \n",
       "mean          3.820254     14.549004                     2.012596   \n",
       "std           3.707577      8.342980                     0.515804   \n",
       "min           0.000000      0.000000                    -1.000000   \n",
       "25%           1.000000      9.000000                     2.000000   \n",
       "50%           3.000000     12.000000                     2.000000   \n",
       "75%           5.000000     18.000000                     2.000000   \n",
       "max          66.000000     60.000000                     3.000000   \n",
       "\n",
       "       AMT_CREDIT_SUM_OVERDUE  DAYS_LAST_DUE_1ST_VERSION  \\\n",
       "count            4.228200e+04               47580.000000   \n",
       "mean             1.491646e+02               32489.918104   \n",
       "std              9.211520e+03               57816.783827   \n",
       "min              0.000000e+00               -2796.000000   \n",
       "25%              0.000000e+00                -765.350000   \n",
       "50%              0.000000e+00                -189.100000   \n",
       "75%              0.000000e+00               60389.208335   \n",
       "max              1.332472e+06              365243.000000   \n",
       "\n",
       "       AVG_DAYS_ENTRY_PAYMENT  DAYS_ID_PUBLISH  CNT_INSTALMENT_FUTURE  \\\n",
       "count            47943.000000     48744.000000           47804.000000   \n",
       "mean              -928.995532     -3051.712949              20.308175   \n",
       "std                598.098073      1569.276709              13.713268   \n",
       "min              -2922.000000     -6348.000000               0.000000   \n",
       "25%              -1313.095201     -4448.000000              12.000000   \n",
       "50%               -801.833333     -3234.000000              12.000000   \n",
       "75%               -445.985714     -1706.000000              24.000000   \n",
       "max                 -5.000000         0.000000              85.000000   \n",
       "\n",
       "       MONTHS_BALANCE  DAYS_FIRST_DUE  AMT_CREDIT_SUM  DAYS_LAST_DUE  \\\n",
       "count    47808.000000    47580.000000    4.228200e+04   47580.000000   \n",
       "mean       -12.778656    13537.960295    2.222549e+06   78525.490985   \n",
       "std         18.561101    41757.175969    4.539563e+06  102782.486005   \n",
       "min        -95.000000    -2891.000000    0.000000e+00   -2850.000000   \n",
       "25%        -15.000000    -1332.500000    3.692959e+05    -812.500000   \n",
       "50%         -5.000000     -820.000000    1.092335e+06     -15.000000   \n",
       "75%         -2.000000     -405.000000    2.657656e+06  121523.000000   \n",
       "max         -1.000000   365243.000000    6.091645e+08  365243.000000   \n",
       "\n",
       "       NAME_PORTFOLIO_POS   ID_PREV_NUM  NAME_YIELD_GROUP_low_action  \\\n",
       "count        48744.000000  47944.000000                 48744.000000   \n",
       "mean             0.571127      3.012014                     0.090042   \n",
       "std              0.494920      2.111285                     0.286245   \n",
       "min              0.000000      1.000000                     0.000000   \n",
       "25%              0.000000      1.000000                     0.000000   \n",
       "50%              1.000000      2.000000                     0.000000   \n",
       "75%              1.000000      4.000000                     0.000000   \n",
       "max              1.000000     21.000000                     1.000000   \n",
       "\n",
       "       SELLERPLACE_AREA  AMT_INCOME_TOTAL  DAYS_DECISION  \\\n",
       "count      47800.000000      4.874400e+04   47800.000000   \n",
       "mean         412.465520      1.784318e+05    -917.552281   \n",
       "std         2409.429125      1.015226e+05     555.368217   \n",
       "min           -1.000000      2.694150e+04   -2921.000000   \n",
       "25%           22.333333      1.125000e+05   -1202.000000   \n",
       "50%           79.000000      1.575000e+05    -784.000000   \n",
       "75%          350.000000      2.250000e+05    -499.312500   \n",
       "max       250000.000000      4.410000e+06      -5.000000   \n",
       "\n",
       "       ORGANIZATION_TYPE_Self-employed  CREDIT_ACTIVE_A  \\\n",
       "count                     48744.000000     42282.000000   \n",
       "mean                          0.121451         2.096661   \n",
       "std                           0.326654         1.815826   \n",
       "min                           0.000000         0.000000   \n",
       "25%                           0.000000         1.000000   \n",
       "50%                           0.000000         2.000000   \n",
       "75%                           0.000000         3.000000   \n",
       "max                           1.000000        19.000000   \n",
       "\n",
       "       NAME_CONTRACT_TYPE_Cash loans  NAME_FAMILY_STATUS_Married  \\\n",
       "count                   48744.000000                48744.000000   \n",
       "mean                        0.990994                    0.662297   \n",
       "std                         0.094474                    0.472932   \n",
       "min                         0.000000                    0.000000   \n",
       "25%                         1.000000                    0.000000   \n",
       "50%                         1.000000                    1.000000   \n",
       "75%                         1.000000                    1.000000   \n",
       "max                         1.000000                    1.000000   \n",
       "\n",
       "       AMT_APPLICATION  AMT_ANNUITY_y.1      STATUS_C  \\\n",
       "count     47775.000000     47737.000000  42282.000000   \n",
       "mean         97.429441     15410.840530    107.081973   \n",
       "std          16.850828     10573.344603    126.602440   \n",
       "min           0.000000       885.780000      0.000000   \n",
       "25%          91.281936      8428.522500     17.000000   \n",
       "50%          97.066848     12796.830000     66.000000   \n",
       "75%         102.439592     19399.446000    153.000000   \n",
       "max        1000.000000    235874.970000   1928.000000   \n",
       "\n",
       "       NAME_YIELD_GROUP_middle  DEF_60_CNT_SOCIAL_CIRCLE  \\\n",
       "count             48744.000000              48715.000000   \n",
       "mean                  0.280527                  0.101139   \n",
       "std                   0.449261                  0.403791   \n",
       "min                   0.000000                  0.000000   \n",
       "25%                   0.000000                  0.000000   \n",
       "50%                   0.000000                  0.000000   \n",
       "75%                   1.000000                  0.000000   \n",
       "max                   1.000000                 24.000000   \n",
       "\n",
       "       OBS_60_CNT_SOCIAL_CIRCLE  AMT_CREDIT_MAX_OVERDUE  AVG_DAYS_INSTALMENT  \\\n",
       "count              48715.000000            42282.000000         47944.000000   \n",
       "mean                   1.435738                0.334729          -917.315481   \n",
       "std                    3.580125                0.722379           599.201814   \n",
       "min                    0.000000                0.000000         -2922.000000   \n",
       "25%                    0.000000                0.000000         -1303.225542   \n",
       "50%                    0.000000                0.000000          -789.955556   \n",
       "75%                    2.000000                0.000000          -432.098772   \n",
       "max                  351.000000                9.000000            -5.000000   \n",
       "\n",
       "       REGION_POPULATION_RELATIVE  NAME_EDUCATION_TYPE_Lower secondary  \\\n",
       "count                48744.000000                         48744.000000   \n",
       "mean                     0.021226                             0.009745   \n",
       "std                      0.014428                             0.098235   \n",
       "min                      0.000253                             0.000000   \n",
       "25%                      0.010006                             0.000000   \n",
       "50%                      0.018850                             0.000000   \n",
       "75%                      0.028663                             0.000000   \n",
       "max                      0.072508                             1.000000   \n",
       "\n",
       "           STATUS_1  CNT_INSTALMENT_FUTURE_MIN  HOUR_APPR_PROCESS_START  \\\n",
       "count  42282.000000               47804.000000             48744.000000   \n",
       "mean       1.760513                   0.417413                12.007365   \n",
       "std        4.405363                   2.182407                 3.278172   \n",
       "min        0.000000                   0.000000                 0.000000   \n",
       "25%        0.000000                   0.000000                10.000000   \n",
       "50%        0.000000                   0.000000                12.000000   \n",
       "75%        2.000000                   0.000000                14.000000   \n",
       "max      104.000000                  52.000000                23.000000   \n",
       "\n",
       "       AMT_REQ_CREDIT_BUREAU_YEAR  AMT_CREDIT_y  \\\n",
       "count                42695.000000  4.780000e+04   \n",
       "mean                     1.983769  1.719261e+05   \n",
       "std                      1.838873  1.602918e+05   \n",
       "min                      0.000000  0.000000e+00   \n",
       "25%                      0.000000  7.093965e+04   \n",
       "50%                      2.000000  1.220796e+05   \n",
       "75%                      3.000000  2.183662e+05   \n",
       "max                     17.000000  3.524220e+06   \n",
       "\n",
       "       WEEKDAY_APPR_PROCESS_START_TUESDAY     Completed  AVG_AMT_INSTALMENT  \n",
       "count                        48744.000000  47808.000000        47944.000000  \n",
       "mean                             0.200045      2.301100        19973.251539  \n",
       "std                              0.400038      3.338029        24179.897932  \n",
       "min                              0.000000      0.000000          104.443636  \n",
       "25%                              0.000000      1.000000         8541.412866  \n",
       "50%                              0.000000      2.000000        13735.345714  \n",
       "75%                              0.000000      3.000000        23251.799893  \n",
       "max                              1.000000     86.000000       946490.062500  "
      ]
     },
     "execution_count": 11,
     "metadata": {
      "tags": []
     },
     "output_type": "execute_result"
    }
   ],
   "source": [
    "masterdf_test.describe()"
   ]
  },
  {
   "cell_type": "code",
   "execution_count": 0,
   "metadata": {
    "colab": {},
    "colab_type": "code",
    "id": "S4Pgon5Li3QN"
   },
   "outputs": [],
   "source": [
    "for col in masterdf.columns:\n",
    "    masterdf[col] = masterdf[col].fillna(masterdf[col].median())"
   ]
  },
  {
   "cell_type": "code",
   "execution_count": 0,
   "metadata": {
    "colab": {},
    "colab_type": "code",
    "id": "jc7OHlU1i3QP"
   },
   "outputs": [],
   "source": [
    "for col in masterdf_test.columns:\n",
    "    masterdf_test[col] = masterdf_test[col].fillna(masterdf_test[col].median())"
   ]
  },
  {
   "cell_type": "code",
   "execution_count": 0,
   "metadata": {
    "colab": {
     "base_uri": "https://localhost:8080/",
     "height": 47
    },
    "colab_type": "code",
    "id": "Szr9RNfZi3QQ",
    "outputId": "f5e97c0b-ce9b-4aa7-a768-40b40dc96d35"
   },
   "outputs": [
    {
     "data": {
      "text/html": [
       "<div>\n",
       "<style scoped>\n",
       "    .dataframe tbody tr th:only-of-type {\n",
       "        vertical-align: middle;\n",
       "    }\n",
       "\n",
       "    .dataframe tbody tr th {\n",
       "        vertical-align: top;\n",
       "    }\n",
       "\n",
       "    .dataframe thead th {\n",
       "        text-align: right;\n",
       "    }\n",
       "</style>\n",
       "<table border=\"1\" class=\"dataframe\">\n",
       "  <thead>\n",
       "    <tr style=\"text-align: right;\">\n",
       "      <th></th>\n",
       "      <th>0</th>\n",
       "    </tr>\n",
       "  </thead>\n",
       "  <tbody>\n",
       "  </tbody>\n",
       "</table>\n",
       "</div>"
      ],
      "text/plain": [
       "Empty DataFrame\n",
       "Columns: [0]\n",
       "Index: []"
      ]
     },
     "execution_count": 14,
     "metadata": {
      "tags": []
     },
     "output_type": "execute_result"
    }
   ],
   "source": [
    "a = pd.DataFrame(masterdf.isna().sum())\n",
    "a[a[0] > 0].sort_values(by = 0, ascending = False)"
   ]
  },
  {
   "cell_type": "code",
   "execution_count": 0,
   "metadata": {
    "colab": {
     "base_uri": "https://localhost:8080/",
     "height": 47
    },
    "colab_type": "code",
    "id": "pviYCYLui3QS",
    "outputId": "7a5ac5f9-cd91-4626-903d-603922f96f47"
   },
   "outputs": [
    {
     "data": {
      "text/html": [
       "<div>\n",
       "<style scoped>\n",
       "    .dataframe tbody tr th:only-of-type {\n",
       "        vertical-align: middle;\n",
       "    }\n",
       "\n",
       "    .dataframe tbody tr th {\n",
       "        vertical-align: top;\n",
       "    }\n",
       "\n",
       "    .dataframe thead th {\n",
       "        text-align: right;\n",
       "    }\n",
       "</style>\n",
       "<table border=\"1\" class=\"dataframe\">\n",
       "  <thead>\n",
       "    <tr style=\"text-align: right;\">\n",
       "      <th></th>\n",
       "      <th>0</th>\n",
       "    </tr>\n",
       "  </thead>\n",
       "  <tbody>\n",
       "  </tbody>\n",
       "</table>\n",
       "</div>"
      ],
      "text/plain": [
       "Empty DataFrame\n",
       "Columns: [0]\n",
       "Index: []"
      ]
     },
     "execution_count": 15,
     "metadata": {
      "tags": []
     },
     "output_type": "execute_result"
    }
   ],
   "source": [
    "a = pd.DataFrame(masterdf_test.isna().sum())\n",
    "a[a[0] > 0].sort_values(by = 0, ascending = False)"
   ]
  },
  {
   "cell_type": "code",
   "execution_count": 0,
   "metadata": {
    "colab": {},
    "colab_type": "code",
    "id": "_uJOW3z7i3QU"
   },
   "outputs": [],
   "source": [
    "masterdf['CREDIT_INCOME_PERCENT'] = masterdf['AMT_CREDIT_x'] /masterdf['AMT_INCOME_TOTAL']\n",
    "masterdf['ANNUITY_INCOME_PERCENT'] = masterdf['AMT_ANNUITY_x'] /masterdf['AMT_INCOME_TOTAL']\n",
    "masterdf['CREDIT_TERM'] = masterdf['AMT_ANNUITY_x'] /masterdf['AMT_CREDIT_x']\n",
    "masterdf['DAYS_EMPLOYED_PERCENT'] = masterdf['DAYS_EMPLOYED'] /masterdf['DAYS_BIRTH']"
   ]
  },
  {
   "cell_type": "code",
   "execution_count": 0,
   "metadata": {
    "colab": {},
    "colab_type": "code",
    "id": "KyKmkxaqi3QX"
   },
   "outputs": [],
   "source": [
    "masterdf_test['CREDIT_INCOME_PERCENT'] =masterdf_test['AMT_CREDIT_x'] /masterdf_test['AMT_INCOME_TOTAL']\n",
    "masterdf_test['ANNUITY_INCOME_PERCENT'] =masterdf_test['AMT_ANNUITY_x'] /masterdf_test['AMT_INCOME_TOTAL']\n",
    "masterdf_test['CREDIT_TERM'] =masterdf_test['AMT_ANNUITY_x'] /masterdf_test['AMT_CREDIT_x']\n",
    "masterdf_test['DAYS_EMPLOYED_PERCENT'] =masterdf_test['DAYS_EMPLOYED'] /masterdf_test['DAYS_BIRTH']"
   ]
  },
  {
   "cell_type": "code",
   "execution_count": 0,
   "metadata": {
    "colab": {},
    "colab_type": "code",
    "id": "GQmWTC4ci3QY"
   },
   "outputs": [],
   "source": [
    "masterdf_test = masterdf_test.set_index('SK_ID_CURR')"
   ]
  },
  {
   "cell_type": "code",
   "execution_count": 0,
   "metadata": {
    "colab": {},
    "colab_type": "code",
    "id": "EsnJwNRTi3Qa"
   },
   "outputs": [],
   "source": [
    "masterdf1 = masterdf[masterdf['TARGET'] == 1]\n",
    "masterdf0 = masterdf[masterdf['TARGET'] == 0]"
   ]
  },
  {
   "cell_type": "code",
   "execution_count": 0,
   "metadata": {
    "colab": {},
    "colab_type": "code",
    "id": "Ybije3Xhi3Qb"
   },
   "outputs": [],
   "source": [
    "masterdf01, masterdf02 = train_test_split(masterdf0, test_size=0.2,random_state=45)"
   ]
  },
  {
   "cell_type": "code",
   "execution_count": 0,
   "metadata": {
    "colab": {},
    "colab_type": "code",
    "id": "RJsVQm-Pi3Qc"
   },
   "outputs": [],
   "source": [
    "masterdf_ds = pd.concat([masterdf01, masterdf1], axis = 0)"
   ]
  },
  {
   "cell_type": "code",
   "execution_count": 0,
   "metadata": {
    "colab": {},
    "colab_type": "code",
    "id": "CPbz7nANi3Qe"
   },
   "outputs": [],
   "source": [
    "X = masterdf_ds.iloc[:, 2:354]\n",
    "y = masterdf_ds.iloc[:, 1:2]"
   ]
  },
  {
   "cell_type": "code",
   "execution_count": 0,
   "metadata": {
    "colab": {
     "base_uri": "https://localhost:8080/",
     "height": 34
    },
    "colab_type": "code",
    "id": "e3FPT93Ji3Qg",
    "outputId": "6e26bff6-5feb-448b-f137-7b1ff7b88102"
   },
   "outputs": [
    {
     "data": {
      "text/plain": [
       "(48744, 76)"
      ]
     },
     "execution_count": 24,
     "metadata": {
      "tags": []
     },
     "output_type": "execute_result"
    }
   ],
   "source": [
    "masterdf_test.shape"
   ]
  },
  {
   "cell_type": "code",
   "execution_count": 0,
   "metadata": {
    "colab": {},
    "colab_type": "code",
    "id": "Vc6t0OCvi3Qi"
   },
   "outputs": [],
   "source": [
    "X_train, X_test, y_train, y_test = train_test_split(X, y, test_size=0.20,random_state=45)"
   ]
  },
  {
   "cell_type": "code",
   "execution_count": 0,
   "metadata": {
    "colab": {},
    "colab_type": "code",
    "id": "ZPjNi0qJi3Qk"
   },
   "outputs": [],
   "source": [
    "scaler = StandardScaler()\n",
    "scaler.fit(X_train)\n",
    "\n",
    "X_train_norm = scaler.transform(X_train)\n",
    "X_test_norm = scaler.transform(X_test)\n",
    "masterdf_test_norm = scaler.transform(masterdf_test)"
   ]
  },
  {
   "cell_type": "code",
   "execution_count": 0,
   "metadata": {
    "colab": {},
    "colab_type": "code",
    "id": "S8JT6Raji3Qm"
   },
   "outputs": [],
   "source": [
    "from sklearn.decomposition import PCA\n",
    "pca = PCA(n_components=76)\n",
    "pca.fit(X_train_norm)\n",
    "X_train_red = pca.transform(X_train_norm)\n",
    "X_test_red = pca.transform(X_test_norm)\n",
    "masterdf_test_red = pca.transform(masterdf_test_norm)"
   ]
  },
  {
   "cell_type": "code",
   "execution_count": 0,
   "metadata": {
    "colab": {},
    "colab_type": "code",
    "id": "SIMc85rQi3Qq"
   },
   "outputs": [],
   "source": [
    "X_train_red = pd.DataFrame(X_train_red)\n",
    "X_test_red = pd.DataFrame(X_test_red)\n",
    "masterdf_test_red = pd.DataFrame(masterdf_test_red)"
   ]
  },
  {
   "cell_type": "markdown",
   "metadata": {
    "colab_type": "text",
    "id": "PcIt3RpuTuuM"
   },
   "source": [
    "XGBOOST"
   ]
  },
  {
   "cell_type": "code",
   "execution_count": null,
   "metadata": {
    "colab": {
     "base_uri": "https://localhost:8080/",
     "height": 352
    },
    "colab_type": "code",
    "id": "rnkIoOXdtQ1T",
    "outputId": "9147dc85-45ad-416b-b308-792fa5c1835b"
   },
   "outputs": [],
   "source": [
    "from xgboost import XGBClassifier\n",
    "from sklearn.metrics import accuracy_score, precision_score, recall_score, f1_score, roc_auc_score\n",
    "from sklearn.model_selection import GridSearchCV\n",
    "\n",
    "params = {'n_estimators':[250,500,750],'learning_rate':[0.001,0.01,0.1],'max_depth':[1,2,3,4,5,6]}\n",
    "\n",
    "xgb2 = XGBClassifier(objective='binary:logistic',random_state=42,tree_method='gpu_hist')\n",
    "clf = GridSearchCV(xgb2,params,cv=3,scoring='roc_auc')\n",
    "clf.fit(X_train_red, y_train)"
   ]
  },
  {
   "cell_type": "code",
   "execution_count": null,
   "metadata": {
    "colab": {
     "base_uri": "https://localhost:8080/",
     "height": 167
    },
    "colab_type": "code",
    "id": "nFplWBxZtQxB",
    "outputId": "62594884-5e70-46fa-fa5f-eea11144fced"
   },
   "outputs": [],
   "source": [
    "clf.best_params_"
   ]
  },
  {
   "cell_type": "code",
   "execution_count": 0,
   "metadata": {
    "colab": {
     "base_uri": "https://localhost:8080/",
     "height": 34
    },
    "colab_type": "code",
    "id": "BH8Gk5QPtQvP",
    "outputId": "9a8a9cef-c4f3-4b87-f43d-cb356b106c92"
   },
   "outputs": [
    {
     "data": {
      "text/plain": [
       "0.7603067415531021"
      ]
     },
     "execution_count": 31,
     "metadata": {
      "tags": []
     },
     "output_type": "execute_result"
    }
   ],
   "source": [
    "clf.best_score_"
   ]
  },
  {
   "cell_type": "code",
   "execution_count": 0,
   "metadata": {
    "colab": {
     "base_uri": "https://localhost:8080/",
     "height": 34
    },
    "colab_type": "code",
    "id": "ibUGWNQGtQqr",
    "outputId": "68c463d4-bfce-4c51-abd6-3359ae310efb"
   },
   "outputs": [
    {
     "name": "stdout",
     "output_type": "stream",
     "text": [
      "xgb2 auc: 0.5136\n"
     ]
    }
   ],
   "source": [
    "auc2 = roc_auc_score(y_test, clf.predict(X_test_red))\n",
    "print(\"xgb2 auc: %.4f\" % auc2)"
   ]
  },
  {
   "cell_type": "code",
   "execution_count": 0,
   "metadata": {
    "colab": {},
    "colab_type": "code",
    "id": "18eDFY9-PsiN"
   },
   "outputs": [],
   "source": [
    "from xgboost import XGBClassifier\n",
    "from sklearn.metrics import accuracy_score, precision_score, recall_score, f1_score, roc_auc_score\n",
    "from sklearn.model_selection import GridSearchCV"
   ]
  },
  {
   "cell_type": "code",
   "execution_count": 0,
   "metadata": {
    "colab": {
     "base_uri": "https://localhost:8080/",
     "height": 141
    },
    "colab_type": "code",
    "id": "BlVci-KftQom",
    "outputId": "aedada47-669d-4f22-94b8-6eb6cf2b6b57"
   },
   "outputs": [
    {
     "data": {
      "text/plain": [
       "XGBClassifier(base_score=0.5, booster='gbtree', colsample_bylevel=1,\n",
       "              colsample_bynode=1, colsample_bytree=1, gamma=0,\n",
       "              learning_rate=0.1, max_delta_step=0, max_depth=3,\n",
       "              min_child_weight=1, missing=None, n_estimators=750, n_jobs=1,\n",
       "              nthread=None, objective='binary:logistic', random_state=42,\n",
       "              reg_alpha=0, reg_lambda=1, scale_pos_weight=1, seed=None,\n",
       "              silent=None, subsample=1, tree_method='gpu_hist', verbosity=1)"
      ]
     },
     "execution_count": 33,
     "metadata": {
      "tags": []
     },
     "output_type": "execute_result"
    }
   ],
   "source": [
    "xgb_tuned = XGBClassifier(objective='binary:logistic',\n",
    "                          random_state=42,\n",
    "                          tree_method='gpu_hist',\n",
    "                          n_estimators=750,\n",
    "                          learning_rate=0.1,\n",
    "                          max_depth=3)\n",
    "xgb_tuned.fit(X_train_red, y_train)"
   ]
  },
  {
   "cell_type": "code",
   "execution_count": 0,
   "metadata": {
    "colab": {},
    "colab_type": "code",
    "id": "BXbTaGG785RC"
   },
   "outputs": [],
   "source": [
    "predicted = xgb_tuned.predict(masterdf_test_red)"
   ]
  },
  {
   "cell_type": "code",
   "execution_count": 0,
   "metadata": {
    "colab": {
     "base_uri": "https://localhost:8080/",
     "height": 230
    },
    "colab_type": "code",
    "id": "2xjKoT_UQWlo",
    "outputId": "7524ef65-153b-4b52-ab84-03739fa40f9d"
   },
   "outputs": [
    {
     "name": "stdout",
     "output_type": "stream",
     "text": [
      "[[45113  4668]\n",
      " [  202   212]]\n",
      "              precision    recall  f1-score   support\n",
      "\n",
      "           0       0.91      1.00      0.95     45315\n",
      "           1       0.51      0.04      0.08      4880\n",
      "\n",
      "    accuracy                           0.90     50195\n",
      "   macro avg       0.71      0.52      0.51     50195\n",
      "weighted avg       0.87      0.90      0.86     50195\n",
      "\n",
      "0.7625945498993385\n"
     ]
    }
   ],
   "source": [
    "y_pred_rf = xgb_tuned.predict(X_test_red)\n",
    "y_pred2_rf = xgb_tuned.predict_proba(X_test_red)\n",
    "\n",
    "print(confusion_matrix(y_pred_rf, y_test))\n",
    "\n",
    "print(classification_report(y_test, y_pred_rf))\n",
    "y_pred2_rf = y_pred2_rf[:,1]\n",
    "from sklearn.metrics import roc_auc_score\n",
    "print(roc_auc_score(y_test, y_pred2_rf))"
   ]
  },
  {
   "cell_type": "code",
   "execution_count": 0,
   "metadata": {
    "colab": {},
    "colab_type": "code",
    "id": "3Ya8lOnV85GP"
   },
   "outputs": [],
   "source": [
    "predictions = pd.DataFrame(columns=['SK_ID_CURR', 'TARGET'])"
   ]
  },
  {
   "cell_type": "code",
   "execution_count": 0,
   "metadata": {
    "colab": {},
    "colab_type": "code",
    "id": "hKrC8DqjDrsG"
   },
   "outputs": [],
   "source": [
    "predictions['SK_ID_CURR'] = masterdf_test0['SK_ID_CURR']"
   ]
  },
  {
   "cell_type": "code",
   "execution_count": 0,
   "metadata": {
    "colab": {},
    "colab_type": "code",
    "id": "DhvyauC5Drmc"
   },
   "outputs": [],
   "source": [
    "predictions['TARGET'] = predicted.tolist()"
   ]
  },
  {
   "cell_type": "code",
   "execution_count": null,
   "metadata": {
    "colab": {
     "base_uri": "https://localhost:8080/",
     "height": 167
    },
    "colab_type": "code",
    "id": "Trn-Ss5s85B1",
    "outputId": "a8ee9dbb-6e02-4d69-b565-8215d317e860"
   },
   "outputs": [],
   "source": [
    "predictions.to_csv('predictions_xgboost.csv')"
   ]
  },
  {
   "cell_type": "markdown",
   "metadata": {
    "colab_type": "text",
    "id": "my9SS0RaT4DT"
   },
   "source": [
    "Neural Network"
   ]
  },
  {
   "cell_type": "code",
   "execution_count": 0,
   "metadata": {
    "colab": {
     "base_uri": "https://localhost:8080/",
     "height": 81
    },
    "colab_type": "code",
    "id": "UJG7tYd_84tA",
    "outputId": "d0531a00-2626-40aa-dc69-c03e3cf7e86f"
   },
   "outputs": [
    {
     "name": "stderr",
     "output_type": "stream",
     "text": [
      "Using TensorFlow backend.\n"
     ]
    },
    {
     "data": {
      "text/html": [
       "<p style=\"color: red;\">\n",
       "The default version of TensorFlow in Colab will soon switch to TensorFlow 2.x.<br>\n",
       "We recommend you <a href=\"https://www.tensorflow.org/guide/migrate\" target=\"_blank\">upgrade</a> now \n",
       "or ensure your notebook will continue to use TensorFlow 1.x via the <code>%tensorflow_version 1.x</code> magic:\n",
       "<a href=\"https://colab.research.google.com/notebooks/tensorflow_version.ipynb\" target=\"_blank\">more info</a>.</p>\n"
      ],
      "text/plain": [
       "<IPython.core.display.HTML object>"
      ]
     },
     "metadata": {
      "tags": []
     },
     "output_type": "display_data"
    }
   ],
   "source": [
    "import pandas as pd\n",
    "import numpy as np\n",
    "import math\n",
    "from sklearn.model_selection import cross_val_score, train_test_split\n",
    "from keras.layers import Dense\n",
    "from keras.models import Sequential\n",
    "from keras.optimizers import RMSprop, Adadelta, Adam\n",
    "from keras import regularizers\n",
    "from keras import losses\n",
    "from sklearn.metrics import mean_squared_error\n",
    "import matplotlib.pyplot as plt"
   ]
  },
  {
   "cell_type": "code",
   "execution_count": 0,
   "metadata": {
    "colab": {},
    "colab_type": "code",
    "id": "LE4krvmqXKI0"
   },
   "outputs": [],
   "source": [
    "y_train_Dummies = pd.get_dummies(y_train['TARGET'])\n"
   ]
  },
  {
   "cell_type": "code",
   "execution_count": 0,
   "metadata": {
    "colab": {
     "base_uri": "https://localhost:8080/",
     "height": 197
    },
    "colab_type": "code",
    "id": "YpGAumn4XiZt",
    "outputId": "7811fdc3-b5a8-4991-ed06-7b60bfd34d34"
   },
   "outputs": [
    {
     "data": {
      "text/html": [
       "<div>\n",
       "<style scoped>\n",
       "    .dataframe tbody tr th:only-of-type {\n",
       "        vertical-align: middle;\n",
       "    }\n",
       "\n",
       "    .dataframe tbody tr th {\n",
       "        vertical-align: top;\n",
       "    }\n",
       "\n",
       "    .dataframe thead th {\n",
       "        text-align: right;\n",
       "    }\n",
       "</style>\n",
       "<table border=\"1\" class=\"dataframe\">\n",
       "  <thead>\n",
       "    <tr style=\"text-align: right;\">\n",
       "      <th></th>\n",
       "      <th>0</th>\n",
       "      <th>1</th>\n",
       "    </tr>\n",
       "  </thead>\n",
       "  <tbody>\n",
       "    <tr>\n",
       "      <th>279946</th>\n",
       "      <td>1</td>\n",
       "      <td>0</td>\n",
       "    </tr>\n",
       "    <tr>\n",
       "      <th>204052</th>\n",
       "      <td>0</td>\n",
       "      <td>1</td>\n",
       "    </tr>\n",
       "    <tr>\n",
       "      <th>110616</th>\n",
       "      <td>1</td>\n",
       "      <td>0</td>\n",
       "    </tr>\n",
       "    <tr>\n",
       "      <th>98521</th>\n",
       "      <td>1</td>\n",
       "      <td>0</td>\n",
       "    </tr>\n",
       "    <tr>\n",
       "      <th>247889</th>\n",
       "      <td>1</td>\n",
       "      <td>0</td>\n",
       "    </tr>\n",
       "  </tbody>\n",
       "</table>\n",
       "</div>"
      ],
      "text/plain": [
       "        0  1\n",
       "279946  1  0\n",
       "204052  0  1\n",
       "110616  1  0\n",
       "98521   1  0\n",
       "247889  1  0"
      ]
     },
     "execution_count": 39,
     "metadata": {
      "tags": []
     },
     "output_type": "execute_result"
    }
   ],
   "source": [
    "y_train_Dummies.head()"
   ]
  },
  {
   "cell_type": "code",
   "execution_count": 0,
   "metadata": {
    "colab": {
     "base_uri": "https://localhost:8080/",
     "height": 1000
    },
    "colab_type": "code",
    "id": "uwJth3HaUavN",
    "outputId": "b8bb3a11-c369-49c0-e0a8-9e4fb1cc4875"
   },
   "outputs": [
    {
     "name": "stdout",
     "output_type": "stream",
     "text": [
      "Epoch 1/100\n",
      "200778/200778 [==============================] - 1s 6us/step - loss: 442.8483 - acc: 0.5468\n",
      "Epoch 2/100\n",
      "200778/200778 [==============================] - 0s 2us/step - loss: 355.7884 - acc: 0.7977\n",
      "Epoch 3/100\n",
      "200778/200778 [==============================] - 0s 2us/step - loss: 277.2973 - acc: 0.8815\n",
      "Epoch 4/100\n",
      "200778/200778 [==============================] - 0s 2us/step - loss: 208.7040 - acc: 0.8954\n",
      "Epoch 5/100\n",
      "200778/200778 [==============================] - 0s 2us/step - loss: 150.1174 - acc: 0.8984\n",
      "Epoch 6/100\n",
      "200778/200778 [==============================] - 0s 2us/step - loss: 101.4803 - acc: 0.8996\n",
      "Epoch 7/100\n",
      "200778/200778 [==============================] - 0s 2us/step - loss: 62.2178 - acc: 0.9000\n",
      "Epoch 8/100\n",
      "200778/200778 [==============================] - 0s 2us/step - loss: 32.7628 - acc: 0.9004\n",
      "Epoch 9/100\n",
      "200778/200778 [==============================] - 0s 2us/step - loss: 13.1563 - acc: 0.9004\n",
      "Epoch 10/100\n",
      "200778/200778 [==============================] - 0s 2us/step - loss: 3.4068 - acc: 0.9005\n",
      "Epoch 11/100\n",
      "200778/200778 [==============================] - 0s 2us/step - loss: 1.4075 - acc: 0.9005\n",
      "Epoch 12/100\n",
      "200778/200778 [==============================] - 0s 2us/step - loss: 1.0149 - acc: 0.9005\n",
      "Epoch 13/100\n",
      "200778/200778 [==============================] - 0s 2us/step - loss: 0.9405 - acc: 0.9006\n",
      "Epoch 14/100\n",
      "200778/200778 [==============================] - 0s 2us/step - loss: 0.9239 - acc: 0.9005\n",
      "Epoch 15/100\n",
      "200778/200778 [==============================] - 0s 2us/step - loss: 0.9203 - acc: 0.9006\n",
      "Epoch 16/100\n",
      "200778/200778 [==============================] - 0s 2us/step - loss: 0.9110 - acc: 0.9006\n",
      "Epoch 17/100\n",
      "200778/200778 [==============================] - 0s 2us/step - loss: 0.9094 - acc: 0.9006\n",
      "Epoch 18/100\n",
      "200778/200778 [==============================] - 0s 2us/step - loss: 0.9041 - acc: 0.9006\n",
      "Epoch 19/100\n",
      "200778/200778 [==============================] - 0s 2us/step - loss: 0.9037 - acc: 0.9006\n",
      "Epoch 20/100\n",
      "200778/200778 [==============================] - 0s 2us/step - loss: 0.9002 - acc: 0.9006\n",
      "Epoch 21/100\n",
      "200778/200778 [==============================] - 0s 2us/step - loss: 0.8973 - acc: 0.9006\n",
      "Epoch 22/100\n",
      "200778/200778 [==============================] - 0s 2us/step - loss: 0.8960 - acc: 0.9007\n",
      "Epoch 23/100\n",
      "200778/200778 [==============================] - 0s 2us/step - loss: 0.8947 - acc: 0.9006\n",
      "Epoch 24/100\n",
      "200778/200778 [==============================] - 0s 2us/step - loss: 0.8954 - acc: 0.9006\n",
      "Epoch 25/100\n",
      "200778/200778 [==============================] - 0s 1us/step - loss: 0.8943 - acc: 0.9007\n",
      "Epoch 26/100\n",
      "200778/200778 [==============================] - 0s 2us/step - loss: 0.8910 - acc: 0.9007\n",
      "Epoch 27/100\n",
      "200778/200778 [==============================] - 0s 2us/step - loss: 0.8900 - acc: 0.9007\n",
      "Epoch 28/100\n",
      "200778/200778 [==============================] - 0s 2us/step - loss: 0.8860 - acc: 0.9007\n",
      "Epoch 29/100\n",
      "200778/200778 [==============================] - 0s 2us/step - loss: 0.8819 - acc: 0.9007\n",
      "Epoch 30/100\n",
      "200778/200778 [==============================] - 0s 2us/step - loss: 0.8850 - acc: 0.9007\n",
      "Epoch 31/100\n",
      "200778/200778 [==============================] - 0s 2us/step - loss: 0.8851 - acc: 0.9007\n",
      "Epoch 32/100\n",
      "200778/200778 [==============================] - 0s 2us/step - loss: 0.8837 - acc: 0.9007\n",
      "Epoch 33/100\n",
      "200778/200778 [==============================] - 0s 2us/step - loss: 0.8841 - acc: 0.9007\n",
      "Epoch 34/100\n",
      "200778/200778 [==============================] - 0s 2us/step - loss: 0.8819 - acc: 0.9007\n",
      "Epoch 35/100\n",
      "200778/200778 [==============================] - 0s 2us/step - loss: 0.8828 - acc: 0.9007\n",
      "Epoch 36/100\n",
      "200778/200778 [==============================] - 0s 2us/step - loss: 0.8801 - acc: 0.9007\n",
      "Epoch 37/100\n",
      "200778/200778 [==============================] - 0s 2us/step - loss: 0.8784 - acc: 0.9007\n",
      "Epoch 38/100\n",
      "200778/200778 [==============================] - 0s 2us/step - loss: 0.8795 - acc: 0.9007\n",
      "Epoch 39/100\n",
      "200778/200778 [==============================] - 0s 2us/step - loss: 0.8803 - acc: 0.9007\n",
      "Epoch 40/100\n",
      "200778/200778 [==============================] - 0s 2us/step - loss: 0.8811 - acc: 0.9007\n",
      "Epoch 41/100\n",
      "200778/200778 [==============================] - 0s 2us/step - loss: 0.8782 - acc: 0.9007\n",
      "Epoch 42/100\n",
      "200778/200778 [==============================] - 0s 2us/step - loss: 0.8790 - acc: 0.9007\n",
      "Epoch 43/100\n",
      "200778/200778 [==============================] - 0s 2us/step - loss: 0.8758 - acc: 0.9007\n",
      "Epoch 44/100\n",
      "200778/200778 [==============================] - 0s 2us/step - loss: 0.8785 - acc: 0.9007\n",
      "Epoch 45/100\n",
      "200778/200778 [==============================] - 0s 2us/step - loss: 0.8752 - acc: 0.9007\n",
      "Epoch 46/100\n",
      "200778/200778 [==============================] - 0s 2us/step - loss: 0.8731 - acc: 0.9007\n",
      "Epoch 47/100\n",
      "200778/200778 [==============================] - 0s 2us/step - loss: 0.8778 - acc: 0.9007\n",
      "Epoch 48/100\n",
      "200778/200778 [==============================] - 0s 2us/step - loss: 0.8810 - acc: 0.9007\n",
      "Epoch 49/100\n",
      "200778/200778 [==============================] - 0s 2us/step - loss: 0.8748 - acc: 0.9007\n",
      "Epoch 50/100\n",
      "200778/200778 [==============================] - 0s 2us/step - loss: 0.8725 - acc: 0.9007\n",
      "Epoch 51/100\n",
      "200778/200778 [==============================] - 0s 2us/step - loss: 0.8734 - acc: 0.9007\n",
      "Epoch 52/100\n",
      "200778/200778 [==============================] - 0s 2us/step - loss: 0.8698 - acc: 0.9007\n",
      "Epoch 53/100\n",
      "200778/200778 [==============================] - 0s 2us/step - loss: 0.8711 - acc: 0.9007\n",
      "Epoch 54/100\n",
      "200778/200778 [==============================] - 0s 2us/step - loss: 0.8707 - acc: 0.9007\n",
      "Epoch 55/100\n",
      "200778/200778 [==============================] - 0s 2us/step - loss: 0.8731 - acc: 0.9007\n",
      "Epoch 56/100\n",
      "200778/200778 [==============================] - 0s 2us/step - loss: 0.8668 - acc: 0.9007\n",
      "Epoch 57/100\n",
      "200778/200778 [==============================] - 0s 2us/step - loss: 0.8665 - acc: 0.9007\n",
      "Epoch 58/100\n",
      "200778/200778 [==============================] - 0s 2us/step - loss: 0.8661 - acc: 0.9007\n",
      "Epoch 59/100\n",
      "200778/200778 [==============================] - 0s 2us/step - loss: 0.8645 - acc: 0.9007\n",
      "Epoch 60/100\n",
      "200778/200778 [==============================] - 0s 2us/step - loss: 0.8649 - acc: 0.9007\n",
      "Epoch 61/100\n",
      "200778/200778 [==============================] - 0s 2us/step - loss: 0.8643 - acc: 0.9007\n",
      "Epoch 62/100\n",
      "200778/200778 [==============================] - 0s 2us/step - loss: 0.8639 - acc: 0.9007\n",
      "Epoch 63/100\n",
      "200778/200778 [==============================] - 0s 1us/step - loss: 0.8640 - acc: 0.9007\n",
      "Epoch 64/100\n",
      "200778/200778 [==============================] - 0s 2us/step - loss: 0.8644 - acc: 0.9007\n",
      "Epoch 65/100\n",
      "200778/200778 [==============================] - 0s 2us/step - loss: 0.8611 - acc: 0.9007\n",
      "Epoch 66/100\n",
      "200778/200778 [==============================] - 0s 1us/step - loss: 0.8639 - acc: 0.9007\n",
      "Epoch 67/100\n",
      "200778/200778 [==============================] - 0s 2us/step - loss: 0.8618 - acc: 0.9007\n",
      "Epoch 68/100\n",
      "200778/200778 [==============================] - 0s 2us/step - loss: 0.8595 - acc: 0.9007\n",
      "Epoch 69/100\n",
      "200778/200778 [==============================] - 0s 2us/step - loss: 0.8589 - acc: 0.9007\n",
      "Epoch 70/100\n",
      "200778/200778 [==============================] - 0s 2us/step - loss: 0.8639 - acc: 0.9007\n",
      "Epoch 71/100\n",
      "200778/200778 [==============================] - 0s 2us/step - loss: 0.8567 - acc: 0.9007\n",
      "Epoch 72/100\n",
      "200778/200778 [==============================] - 0s 2us/step - loss: 0.8559 - acc: 0.9007\n",
      "Epoch 73/100\n",
      "200778/200778 [==============================] - 0s 2us/step - loss: 0.8522 - acc: 0.9007\n",
      "Epoch 74/100\n",
      "200778/200778 [==============================] - 0s 2us/step - loss: 0.8539 - acc: 0.9007\n",
      "Epoch 75/100\n",
      "200778/200778 [==============================] - 0s 2us/step - loss: 0.8539 - acc: 0.9007\n",
      "Epoch 76/100\n",
      "200778/200778 [==============================] - 0s 2us/step - loss: 0.8547 - acc: 0.9007\n",
      "Epoch 77/100\n",
      "200778/200778 [==============================] - 0s 2us/step - loss: 0.8518 - acc: 0.9007\n",
      "Epoch 78/100\n",
      "200778/200778 [==============================] - 0s 2us/step - loss: 0.8549 - acc: 0.9007\n",
      "Epoch 79/100\n",
      "200778/200778 [==============================] - 0s 2us/step - loss: 0.8543 - acc: 0.9007\n",
      "Epoch 80/100\n",
      "200778/200778 [==============================] - 0s 2us/step - loss: 0.8496 - acc: 0.9007\n",
      "Epoch 81/100\n",
      "200778/200778 [==============================] - 0s 2us/step - loss: 0.8504 - acc: 0.9007\n",
      "Epoch 82/100\n",
      "200778/200778 [==============================] - 0s 1us/step - loss: 0.8511 - acc: 0.9007\n",
      "Epoch 83/100\n",
      "200778/200778 [==============================] - 0s 1us/step - loss: 0.8484 - acc: 0.9007\n",
      "Epoch 84/100\n",
      "200778/200778 [==============================] - 0s 2us/step - loss: 0.8486 - acc: 0.9007\n",
      "Epoch 85/100\n",
      "200778/200778 [==============================] - 0s 1us/step - loss: 0.8459 - acc: 0.9007\n",
      "Epoch 86/100\n",
      "200778/200778 [==============================] - 0s 1us/step - loss: 0.8481 - acc: 0.9007\n",
      "Epoch 87/100\n",
      "200778/200778 [==============================] - 0s 2us/step - loss: 0.8483 - acc: 0.9007\n",
      "Epoch 88/100\n",
      "200778/200778 [==============================] - 0s 1us/step - loss: 0.8479 - acc: 0.9007\n",
      "Epoch 89/100\n",
      "200778/200778 [==============================] - 0s 2us/step - loss: 0.8470 - acc: 0.9007\n",
      "Epoch 90/100\n",
      "200778/200778 [==============================] - 0s 2us/step - loss: 0.8464 - acc: 0.9007\n",
      "Epoch 91/100\n",
      "200778/200778 [==============================] - 0s 2us/step - loss: 0.8460 - acc: 0.9007\n",
      "Epoch 92/100\n",
      "200778/200778 [==============================] - 0s 2us/step - loss: 0.8480 - acc: 0.9007\n",
      "Epoch 93/100\n",
      "200778/200778 [==============================] - 0s 2us/step - loss: 0.8444 - acc: 0.9007\n",
      "Epoch 94/100\n",
      "200778/200778 [==============================] - 0s 2us/step - loss: 0.8470 - acc: 0.9007\n",
      "Epoch 95/100\n",
      "200778/200778 [==============================] - 0s 2us/step - loss: 0.8450 - acc: 0.9007\n",
      "Epoch 96/100\n",
      "200778/200778 [==============================] - 0s 2us/step - loss: 0.8434 - acc: 0.9007\n",
      "Epoch 97/100\n",
      "200778/200778 [==============================] - 0s 2us/step - loss: 0.8427 - acc: 0.9007\n",
      "Epoch 98/100\n",
      "200778/200778 [==============================] - 0s 2us/step - loss: 0.8432 - acc: 0.9007\n",
      "Epoch 99/100\n",
      "200778/200778 [==============================] - 0s 2us/step - loss: 0.8462 - acc: 0.9007\n",
      "Epoch 100/100\n",
      "200778/200778 [==============================] - 0s 2us/step - loss: 0.8424 - acc: 0.9007\n"
     ]
    },
    {
     "data": {
      "text/plain": [
       "<keras.callbacks.History at 0x7f17b4eeddd8>"
      ]
     },
     "execution_count": 82,
     "metadata": {
      "tags": []
     },
     "output_type": "execute_result"
    }
   ],
   "source": [
    "from keras import losses\n",
    "from keras.layers import Dropout\n",
    "model = Sequential()\n",
    "model.add(Dense(60, input_dim=X_train_red.shape[1], activation='relu',kernel_regularizer=regularizers.l2(1)))\n",
    "model.add(Dropout(0.3))\n",
    "model.add(Dense(30, activation='relu'))\n",
    "model.add(Dropout(0.3))\n",
    "model.add(Dense(10, activation='relu'))\n",
    "model.add(Dropout(0.3))\n",
    "model.add(Dense(2, activation='sigmoid'))\n",
    "model.compile(loss='binary_crossentropy', optimizer='adam', metrics=['accuracy'])\n",
    "model.fit(X_train_red, y_train_Dummies, epochs=100, batch_size=10000,  verbose=1)"
   ]
  },
  {
   "cell_type": "code",
   "execution_count": 0,
   "metadata": {
    "colab": {
     "base_uri": "https://localhost:8080/",
     "height": 141
    },
    "colab_type": "code",
    "id": "WF0Ucs1cUanx",
    "outputId": "4c82a03d-a2b3-47ae-fbd8-e53da99b6d75"
   },
   "outputs": [
    {
     "data": {
      "text/plain": [
       "array([[0.88958496, 0.11102748],\n",
       "       [0.8895376 , 0.11107826],\n",
       "       [0.889524  , 0.1110929 ],\n",
       "       ...,\n",
       "       [0.88950026, 0.11111808],\n",
       "       [0.8895595 , 0.11105481],\n",
       "       [0.88951015, 0.11110747]], dtype=float32)"
      ]
     },
     "execution_count": 83,
     "metadata": {
      "tags": []
     },
     "output_type": "execute_result"
    }
   ],
   "source": [
    "y_pred = model.predict(masterdf_test_red)\n",
    "y_pred\n",
    "# print('Mean Absolute Error:', metrics.mean_absolute_error(Ytest, y_pred))\n",
    "# print('Mean Squared Error:', metrics.mean_squared_error(Ytest, y_pred))\n",
    "# print('Root Mean Squared Error:', np.sqrt(metrics.mean_squared_error(Ytest, y_pred)))"
   ]
  },
  {
   "cell_type": "code",
   "execution_count": 0,
   "metadata": {
    "colab": {
     "base_uri": "https://localhost:8080/",
     "height": 52
    },
    "colab_type": "code",
    "id": "kaxVdBsDUael",
    "outputId": "67e8ac6d-cedd-4c90-fef9-3ddd23f4d161"
   },
   "outputs": [
    {
     "data": {
      "text/plain": [
       "array([0.11102748, 0.11107826, 0.1110929 , ..., 0.11111808, 0.11105481,\n",
       "       0.11110747], dtype=float32)"
      ]
     },
     "execution_count": 84,
     "metadata": {
      "tags": []
     },
     "output_type": "execute_result"
    }
   ],
   "source": [
    "y_pred[:,1]"
   ]
  },
  {
   "cell_type": "code",
   "execution_count": 0,
   "metadata": {
    "colab": {},
    "colab_type": "code",
    "id": "79cJ3WVvY7QZ"
   },
   "outputs": [],
   "source": [
    "prediction_nn = pd.DataFrame(columns=['SK_ID_CURR', 'TARGET'])"
   ]
  },
  {
   "cell_type": "code",
   "execution_count": 0,
   "metadata": {
    "colab": {},
    "colab_type": "code",
    "id": "tYhTwDowY7Jk"
   },
   "outputs": [],
   "source": [
    "prediction_nn['SK_ID_CURR'] = masterdf_test0['SK_ID_CURR']"
   ]
  },
  {
   "cell_type": "code",
   "execution_count": 0,
   "metadata": {
    "colab": {},
    "colab_type": "code",
    "id": "FF6fPr7zY65-"
   },
   "outputs": [],
   "source": [
    "prediction_nn['TARGET'] = y_pred[:,1].tolist()"
   ]
  },
  {
   "cell_type": "code",
   "execution_count": 0,
   "metadata": {
    "colab": {},
    "colab_type": "code",
    "id": "6S2VIhgAZNlt"
   },
   "outputs": [],
   "source": [
    "prediction_nn.to_csv('/content/drive/My Drive/Colab Notebooks/predictions_nn_5.csv', index = False)"
   ]
  }
 ],
 "metadata": {
  "accelerator": "GPU",
  "colab": {
   "collapsed_sections": [],
   "name": "XGB_NN.ipynb",
   "provenance": []
  },
  "kernelspec": {
   "display_name": "Python 3",
   "language": "python",
   "name": "python3"
  },
  "language_info": {
   "codemirror_mode": {
    "name": "ipython",
    "version": 3
   },
   "file_extension": ".py",
   "mimetype": "text/x-python",
   "name": "python",
   "nbconvert_exporter": "python",
   "pygments_lexer": "ipython3",
   "version": "3.7.1"
  }
 },
 "nbformat": 4,
 "nbformat_minor": 1
}
